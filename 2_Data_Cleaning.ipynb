{
 "cells": [
  {
   "cell_type": "markdown",
   "metadata": {
    "heading_collapsed": true
   },
   "source": [
    "# Imports"
   ]
  },
  {
   "cell_type": "code",
   "execution_count": null,
   "metadata": {
    "hidden": true
   },
   "outputs": [],
   "source": [
    "import json\n",
    "import requests\n",
    "from bs4 import BeautifulSoup\n",
    "import time\n",
    "import csv\n",
    "import os\n",
    "import pandas as pd\n",
    "import import_ipynb\n",
    "import Dataprep"
   ]
  },
  {
   "cell_type": "markdown",
   "metadata": {},
   "source": [
    "# Extracting data and merging CSVs"
   ]
  },
  {
   "cell_type": "markdown",
   "metadata": {},
   "source": [
    "### Extracting data from saved files and merging together \n",
    "Taking the projections, draftkings, and vegas odds save files and turning them into CSVs"
   ]
  },
  {
   "cell_type": "code",
   "execution_count": null,
   "metadata": {},
   "outputs": [],
   "source": [
    "box_df = pd.read_csv(\"outputs/NBABoxStats.csv\")\n",
    "dates = box_df['Date'].to_numpy()\n",
    "date_list = Dataprep.get_dates_list(dates)\n",
    "resultsDK = []\n",
    "resultsOdds = []\n",
    "resultsProj = []\n",
    "odds_df = pd.DataFrame()\n",
    "for date in date_list:\n",
    "    try:\n",
    "        dk_df = Dataprep.get_dk_info(date)\n",
    "        resultsDK.append(dk_df)\n",
    "        odds_df = Dataprep.get_betting_lines(date)\n",
    "        resultsOdds.append(odds_df)\n",
    "        proj_df = Dataprep.get_proj_info(date)\n",
    "        resultsProj.append(proj_df)\n",
    "    except:\n",
    "        pass\n",
    "\n",
    "dk_df = pd.concat(resultsDK)\n",
    "dk_df.set_index('GID',inplace=True)\n",
    "dk_df.sort_index(ascending=True,inplace=True)\n",
    "dk_df = dk_df.reset_index()\n",
    "\n",
    "odds_df = pd.concat(resultsOdds)\n",
    "odds_df.set_index('GID', inplace=True)\n",
    "odds_df.sort_index(ascending=True,inplace=True)\n",
    "odds_df = odds_df.reset_index()\n",
    "\n",
    "proj_df = pd.concat(resultsProj)\n",
    "proj_df.set_index('GID',inplace=True)\n",
    "proj_df.sort_index(ascending=True,inplace=True)\n",
    "proj_df = proj_df.reset_index() \n",
    "\n",
    "dk_df.to_csv('outputs/dk_df.csv')\n",
    "odds_df.to_csv('outputs/odds_df.csv')\n",
    "proj_df.to_csv('outputs/proj_df.csv')"
   ]
  },
  {
   "cell_type": "markdown",
   "metadata": {
    "heading_collapsed": true
   },
   "source": [
    "### Merging CSVs\n",
    "Adding draftkings data, vegas odds, and projections data into the nba box stats csv"
   ]
  },
  {
   "cell_type": "code",
   "execution_count": null,
   "metadata": {
    "hidden": true
   },
   "outputs": [],
   "source": [
    "from bs4 import BeautifulSoup\n",
    "import csv\n",
    "import pandas as pd\n",
    "import os\n",
    "import import_ipynb\n",
    "import dataprep\n",
    "\n",
    "box_df = pd.read_csv(\"outputs/NBABoxStats.csv\")\n",
    "\n",
    "dk_df = pd.read_csv('outputs/dk_df.csv')\n",
    "box_dk = dataprep.add_dk(box_df,dk_df)\n",
    "\n",
    "odds_df = pd.read_csv('outputs/odds_df.csv')\n",
    "box_dk_odds = dataprep.add_odds(box_dk,odds_df)\n",
    "\n",
    "proj_df = pd.read_csv('outputs/proj_df.csv')\n",
    "box_dk_odds_proj = dataprep.add_proj(box_dk_odds,proj_df)\n",
    "\n",
    "box_dk_odds_proj.to_csv('outputs/box_dk_odds_proj.csv')"
   ]
  },
  {
   "cell_type": "markdown",
   "metadata": {},
   "source": [
    "# Data cleaning "
   ]
  },
  {
   "cell_type": "code",
   "execution_count": 10,
   "metadata": {},
   "outputs": [],
   "source": [
    "#Creates a column of name+date to group same-player performances by specific game\n",
    "df = pd.read_csv('outputs/box_dk_odds_proj.csv')\n",
    "df.dropna(inplace = True)\n",
    "\n",
    "#df.drop_duplicates(subset=['Name','Month','Day'], keep='first',inplace=True)\n",
    "df.drop(['Unnamed: 0','FGA','3PA','FTA','ORB','DRB','PF','+/-'], axis=1,inplace=True)\n",
    "df = df[df['Projected Points'] > 5]\n",
    "\n",
    "#Arrays for categorical values\n",
    "mp_list = []\n",
    "home_list = []\n",
    "away_list = []\n",
    "value_list = []\n",
    "season_list = []\n",
    "season_opp_list = []\n",
    "\n",
    "i = 0\n",
    "for index, each_row in df.iterrows():\n",
    "    Dataprep.home_away_arr(home_list, away_list, each_row)\n",
    "    Dataprep.convert_time_to_decimal(mp_list,each_row)\n",
    "    value = int(2000*each_row['Points']/each_row['Salary'])/2.0\n",
    "    value_list.append(value)\n",
    "    Dataprep.get_season_from_date(season_list, season_opp_list, each_row)\n",
    "    i=i+1\n",
    "\n",
    "#Add columns to DataFrame\n",
    "df['MP']=mp_list\n",
    "df['Home']=home_list\n",
    "df['Away']=away_list\n",
    "df['Value'] = value_list\n",
    "df['Season'] = season_list\n",
    "df['Season+Opp'] = season_opp_list\n",
    "    \n",
    "#Sorts the data by name then goes back to the default index\n",
    "df.set_index('Name',inplace=True)\n",
    "df.sort_index(inplace=True)\n",
    "df.reset_index(inplace=True)\n",
    "#df.to_csv('Cleaned_Data_Sorted.csv')"
   ]
  },
  {
   "cell_type": "markdown",
   "metadata": {},
   "source": [
    "### Grouping Performances by Player and Calculating Rolling Averages\n",
    "sep_by_player() creates a dataframe for each player in our data and calculates rolling averages of the previous 5 games for DraftKings points and minutes played. Then all box stats columns for the current game are dropped."
   ]
  },
  {
   "cell_type": "code",
   "execution_count": 11,
   "metadata": {},
   "outputs": [],
   "source": [
    "df_list = Dataprep.sep_by_player(df)\n",
    "df = pd.concat(df_list)\n",
    "df = Dataprep.drop_box_stats_cols(df)\n",
    "df.to_csv('NBAData.csv')"
   ]
  },
  {
   "cell_type": "code",
   "execution_count": null,
   "metadata": {},
   "outputs": [],
   "source": []
  }
 ],
 "metadata": {
  "kernelspec": {
   "display_name": "Python 3",
   "language": "python",
   "name": "python3"
  },
  "language_info": {
   "codemirror_mode": {
    "name": "ipython",
    "version": 3
   },
   "file_extension": ".py",
   "mimetype": "text/x-python",
   "name": "python",
   "nbconvert_exporter": "python",
   "pygments_lexer": "ipython3",
   "version": "3.7.3"
  }
 },
 "nbformat": 4,
 "nbformat_minor": 2
}
