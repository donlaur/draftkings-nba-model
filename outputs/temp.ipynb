{
 "cells": [
  {
   "cell_type": "code",
   "execution_count": 1,
   "metadata": {
    "papermill": {
     "duration": 4.825626,
     "end_time": "2019-10-22T19:25:07.686704",
     "exception": false,
     "start_time": "2019-10-22T19:25:02.861078",
     "status": "completed"
    },
    "tags": []
   },
   "outputs": [
    {
     "name": "stdout",
     "output_type": "stream",
     "text": [
      "importing Jupyter notebook from Modeling_Functions.ipynb\n"
     ]
    }
   ],
   "source": [
    "from os.path import expanduser\n",
    "import sys\n",
    "import csv\n",
    "import pulp\n",
    "import copy\n",
    "import pandas as pd\n",
    "from tqdm import tqdm\n",
    "import os\n",
    "import import_ipynb\n",
    "import Modeling_Functions"
   ]
  },
  {
   "cell_type": "code",
   "execution_count": 2,
   "metadata": {
    "papermill": {
     "duration": 0.048769,
     "end_time": "2019-10-22T19:25:07.756181",
     "exception": false,
     "start_time": "2019-10-22T19:25:07.707412",
     "status": "completed"
    },
    "tags": [
     "parameters"
    ]
   },
   "outputs": [],
   "source": [
    "num_lineups_to_generate = 20\n",
    "max_player_overlap = 4"
   ]
  },
  {
   "cell_type": "code",
   "execution_count": 3,
   "metadata": {
    "code_folding": [
     1,
     19,
     77,
     87,
     90,
     119
    ],
    "papermill": {
     "duration": 0.376629,
     "end_time": "2019-10-22T19:25:08.147341",
     "exception": false,
     "start_time": "2019-10-22T19:25:07.770712",
     "status": "completed"
    },
    "tags": []
   },
   "outputs": [],
   "source": [
    "class DraftKingsOptimizer:\n",
    "    def __init__(self, num_lineups, overlap, solver, players_filepath, output_filepath):\n",
    "        self.num_lineups = num_lineups\n",
    "        self.overlap = overlap\n",
    "        self.solver = solver\n",
    "        self.players_df = self.load_inputs(players_filepath)\n",
    "        self.positions = {'PG':[], 'SG':[], 'SF':[], 'PF':[], 'C':[]}\n",
    "        self.num_players = len(self.players_df.index)\n",
    "        self.output_filepath = output_filepath\n",
    "        self.actuals = True if 'Points' in self.players_df else False\n",
    "        self.salary_cap = 50000\n",
    "        self.num_teams = None\n",
    "        self.header = ['PG', 'SG', 'SF', 'PF', 'C', 'G', 'F', 'UTIL']\n",
    "        \n",
    "    def create_indicators(self):\n",
    "        for pos in self.players_df.loc[:, 'Position']:\n",
    "            for key in self.positions:\n",
    "                self.positions[key].append(1 if key in pos else 0)\n",
    "            \n",
    "    def type_1(self, lineups):\n",
    "        \"\"\" \n",
    "        Sets up the pulp LP problem, adds all of the constraints and solves for the maximum value for each generated lineup.\n",
    "        Returns a single lineup (i.e all of the players either set to 0 or 1) indicating if a player was included in a lineup or not.\n",
    "        \"\"\"\n",
    "        #define the pulp object problem\n",
    "        prob = pulp.LpProblem('NBA', pulp.LpMaximize)\n",
    "\n",
    "        #define the player and goalie variables\n",
    "        lineup = [pulp.LpVariable(\"player_{}\".format(i+1), cat=\"Binary\") for i in range(self.num_players)]\n",
    "\n",
    "        #add the max player constraints\n",
    "        prob += (pulp.lpSum(lineup[i] for i in range(self.num_players)) == 8)\n",
    "\n",
    "        #add the positional constraints\n",
    "        prob += (1 <= pulp.lpSum(self.positions['PG'][i]*lineup[i] for i in range(self.num_players)))\n",
    "        prob += (pulp.lpSum(self.positions['PG'][i]*lineup[i] for i in range(self.num_players)) <= 3)\n",
    "        prob += (1 <= pulp.lpSum(self.positions['SG'][i]*lineup[i] for i in range(self.num_players)))\n",
    "        prob += (pulp.lpSum(self.positions['SG'][i]*lineup[i] for i in range(self.num_players)) <= 3)\n",
    "        prob += (1 <= pulp.lpSum(self.positions['SF'][i]*lineup[i] for i in range(self.num_players)))\n",
    "        prob += (pulp.lpSum(self.positions['SF'][i]*lineup[i] for i in range(self.num_players)) <= 3)\n",
    "        prob += (1 <= pulp.lpSum(self.positions['PF'][i]*lineup[i] for i in range(self.num_players)))\n",
    "        prob += (pulp.lpSum(self.positions['PF'][i]*lineup[i] for i in range(self.num_players)) <= 3)\n",
    "        prob += (1 <= pulp.lpSum(self.positions['C'][i]*lineup[i] for i in range(self.num_players)))\n",
    "        prob += (pulp.lpSum(self.positions['C'][i]*lineup[i] for i in range(self.num_players)) <= 2)\n",
    "        \n",
    "        prob += (pulp.lpSum(self.positions['PG'][i]*lineup[i]+self.positions['SG'][i]*lineup[i]+\n",
    "                            self.positions['C'][i]*lineup[i] for i in range(self.num_players)) <= 5)\n",
    "        \n",
    "        prob += (pulp.lpSum(self.positions['PF'][i]*lineup[i]+self.positions['SF'][i]*lineup[i]+\n",
    "                            self.positions['C'][i]*lineup[i] for i in range(self.num_players)) <= 5)\n",
    "        \n",
    "        #add the salary constraint\n",
    "        prob += (pulp.lpSum(self.players_df.loc[i, 'Salary']*lineup[i] for i in range(self.num_players))<= self.salary_cap)\n",
    "\n",
    "        #variance constraints - each lineup can't have more than the num overlap of any combination of players in any previous lineups\n",
    "        for i in range(len(lineups)):\n",
    "            prob += (pulp.lpSum(lineups[i][k]*lineup[k] for k in range(self.num_players)) <= self.overlap)\n",
    "\n",
    "        #add the objective\n",
    "        prob += pulp.lpSum(self.players_df.loc[i, 'Predicted Points']*lineup[i] for i in range(self.num_players))\n",
    "        #solve the problem\n",
    "        status = prob.solve(self.solver)\n",
    "\n",
    "        #check if the optimizer found an optimal solution\n",
    "        if status != pulp.LpStatusOptimal:\n",
    "            print('Only {} feasible lineups produced'.format(len(lineups)), '\\n')\n",
    "            return None\n",
    "\n",
    "        # Puts the output of one lineup into a format that will be used later\n",
    "        lineup_copy = []\n",
    "        for i in range(self.num_players):\n",
    "            if lineup[i].varValue >= 0.9 and lineup[i].varValue <= 1.1:\n",
    "                lineup_copy.append(1)\n",
    "            else:\n",
    "                lineup_copy.append(0)\n",
    "        return lineup_copy\n",
    "    \n",
    "    def load_inputs(self, filepath):\n",
    "        \"\"\"\n",
    "        Returns the loaded data from the user filepath into a pandas dataframe.\n",
    "        \"\"\"\n",
    "        try:\n",
    "            data = pd.read_csv(filepath)\n",
    "        except IOError:\n",
    "            sys.exit('INVALID FILEPATH: {}'.format(filepath))\n",
    "        return data\n",
    "\n",
    "    def save_file(self, header, filled_lineups):\n",
    "        \"\"\"\n",
    "        Save the filled lineups to CSV.\n",
    "        If show_proj is True the file will be saved with the projections\n",
    "            and possibly the actual fantasy points if they exist.\n",
    "        \"\"\"\n",
    "        #Remove the projections and actuals if they exist to get lineups ready to upload to DK or FD\n",
    "        header_copy = copy.deepcopy(header)\n",
    "        output_projection_path = self.output_filepath.split('.')[0] + '.csv'\n",
    "        if self.actuals:\n",
    "            lineups_for_upload = [lineup[:-2] for lineup in filled_lineups]\n",
    "            header_copy.extend(('Projected Points', 'Points'))\n",
    "        else:\n",
    "            lineups_for_upload = [lineup[:-1] for lineup in filled_lineups]\n",
    "            header_copy.extend(('Projected Points'))\n",
    "        with open(output_projection_path, 'w') as f:\n",
    "                writer = csv.writer(f)\n",
    "                writer.writerow(header_copy)\n",
    "                writer.writerows(filled_lineups)\n",
    "        print(\"Saved lineups with projection to: {}\".format(output_projection_path))\n",
    "        return\n",
    "\n",
    "    def generate_lineups(self, formula):\n",
    "        lineups = []\n",
    "        for _ in tqdm(range(self.num_lineups)):\n",
    "            lineup = formula(lineups)\n",
    "            if lineup:\n",
    "                lineups.append(lineup)\n",
    "            else:\n",
    "                break\n",
    "        return lineups\n",
    "    \n",
    "    def fill_lineups(self, lineups):\n",
    "        \"\"\" \n",
    "        Takes in the lineups with 1's and 0's indicating if the player is used in a lineup.\n",
    "        Matches the player in the dataframe and replaces the value with their name.\n",
    "        \"\"\"\n",
    "        filled_lineups = []\n",
    "        for lineup in lineups:\n",
    "            a_lineup = [\"\", \"\", \"\", \"\", \"\", \"\", \"\", \"\"]\n",
    "            players_lineup = lineup[:self.num_players]\n",
    "            total_proj = 0\n",
    "            if self.actuals:\n",
    "                total_actual = 0\n",
    "            for num, player in enumerate(players_lineup):\n",
    "                if player > 0.9 and player < 1.1:\n",
    "                    if self.positions['PG'][num] == 1:\n",
    "                        if a_lineup[0] == \"\":\n",
    "                            a_lineup[0] = self.players_df.loc[num, 'Name']\n",
    "                        elif a_lineup[5] == \"\":\n",
    "                            a_lineup[5] = self.players_df.loc[num, 'Name']\n",
    "                        elif a_lineup[7] == \"\":\n",
    "                            a_lineup[7] = self.players_df.loc[num, 'Name']\n",
    "                    elif self.positions['SG'][num] == 1:\n",
    "                        if a_lineup[1] == \"\":\n",
    "                            a_lineup[1] = self.players_df.loc[num, 'Name']\n",
    "                        elif a_lineup[5] == \"\":\n",
    "                            a_lineup[5] = self.players_df.loc[num, 'Name']\n",
    "                        elif a_lineup[7] == \"\":\n",
    "                            a_lineup[7] = self.players_df.loc[num, 'Name']\n",
    "                    elif self.positions['SF'][num] == 1:\n",
    "                        if a_lineup[2] == \"\":\n",
    "                            a_lineup[2] = self.players_df.loc[num, 'Name']\n",
    "                        elif a_lineup[6] == \"\":\n",
    "                            a_lineup[6] = self.players_df.loc[num, 'Name']\n",
    "                        elif a_lineup[7] == \"\":\n",
    "                            a_lineup[7] = self.players_df.loc[num, 'Name']\n",
    "                    elif self.positions['PF'][num] == 1:\n",
    "                        if a_lineup[3] == \"\":\n",
    "                            a_lineup[3] = self.players_df.loc[num, 'Name']\n",
    "                        elif a_lineup[6] == \"\":\n",
    "                            a_lineup[6] = self.players_df.loc[num, 'Name']\n",
    "                        elif a_lineup[7] == \"\":\n",
    "                            a_lineup[7] = self.players_df.loc[num, 'Name']\n",
    "                    elif self.positions['C'][num] == 1:\n",
    "                        if a_lineup[4] == \"\":\n",
    "                            a_lineup[4] = self.players_df.loc[num, 'Name']\n",
    "                        elif a_lineup[7] == \"\":\n",
    "                            a_lineup[7] = self.players_df.loc[num, 'Name']\n",
    "                    total_proj += self.players_df.loc[num, 'Predicted Points']\n",
    "                    if self.actuals:\n",
    "                        total_actual += self.players_df.loc[num, 'Points']\n",
    "            a_lineup.append(round(total_proj, 2))\n",
    "            if self.actuals:\n",
    "                a_lineup.append(round(total_actual, 2))\n",
    "            filled_lineups.append(a_lineup)\n",
    "        return filled_lineups"
   ]
  },
  {
   "cell_type": "code",
   "execution_count": 4,
   "metadata": {
    "papermill": {
     "duration": 6.078902,
     "end_time": "2019-10-22T19:25:14.238216",
     "exception": false,
     "start_time": "2019-10-22T19:25:08.159314",
     "status": "completed"
    },
    "tags": []
   },
   "outputs": [
    {
     "name": "stderr",
     "output_type": "stream",
     "text": [
      "\r",
      "  0%|          | 0/20 [00:00<?, ?it/s]"
     ]
    },
    {
     "name": "stderr",
     "output_type": "stream",
     "text": [
      "\r",
      "  5%|▌         | 1/20 [00:00<00:03,  4.97it/s]"
     ]
    },
    {
     "name": "stderr",
     "output_type": "stream",
     "text": [
      "\r",
      " 10%|█         | 2/20 [00:00<00:03,  5.46it/s]"
     ]
    },
    {
     "name": "stderr",
     "output_type": "stream",
     "text": [
      "\r",
      " 15%|█▌        | 3/20 [00:00<00:03,  5.33it/s]"
     ]
    },
    {
     "name": "stderr",
     "output_type": "stream",
     "text": [
      "\r",
      " 20%|██        | 4/20 [00:00<00:03,  4.37it/s]"
     ]
    },
    {
     "name": "stderr",
     "output_type": "stream",
     "text": [
      "\r",
      " 25%|██▌       | 5/20 [00:01<00:03,  4.30it/s]"
     ]
    },
    {
     "name": "stderr",
     "output_type": "stream",
     "text": [
      "\r",
      " 35%|███▌      | 7/20 [00:01<00:02,  5.11it/s]"
     ]
    },
    {
     "name": "stderr",
     "output_type": "stream",
     "text": [
      "\r",
      " 40%|████      | 8/20 [00:01<00:02,  4.23it/s]"
     ]
    },
    {
     "name": "stderr",
     "output_type": "stream",
     "text": [
      "\r",
      " 45%|████▌     | 9/20 [00:02<00:03,  3.61it/s]"
     ]
    },
    {
     "name": "stderr",
     "output_type": "stream",
     "text": [
      "\r",
      " 50%|█████     | 10/20 [00:02<00:02,  3.60it/s]"
     ]
    },
    {
     "name": "stderr",
     "output_type": "stream",
     "text": [
      "\r",
      " 55%|█████▌    | 11/20 [00:02<00:02,  3.44it/s]"
     ]
    },
    {
     "name": "stderr",
     "output_type": "stream",
     "text": [
      "\r",
      " 60%|██████    | 12/20 [00:03<00:02,  3.09it/s]"
     ]
    },
    {
     "name": "stderr",
     "output_type": "stream",
     "text": [
      "\r",
      " 65%|██████▌   | 13/20 [00:03<00:02,  3.43it/s]"
     ]
    },
    {
     "name": "stderr",
     "output_type": "stream",
     "text": [
      "\r",
      " 70%|███████   | 14/20 [00:03<00:01,  3.07it/s]"
     ]
    },
    {
     "name": "stderr",
     "output_type": "stream",
     "text": [
      "\r",
      " 75%|███████▌  | 15/20 [00:04<00:01,  2.74it/s]"
     ]
    },
    {
     "name": "stderr",
     "output_type": "stream",
     "text": [
      "\r",
      " 80%|████████  | 16/20 [00:04<00:01,  2.72it/s]"
     ]
    },
    {
     "name": "stderr",
     "output_type": "stream",
     "text": [
      "\r",
      " 85%|████████▌ | 17/20 [00:04<00:01,  2.74it/s]"
     ]
    },
    {
     "name": "stderr",
     "output_type": "stream",
     "text": [
      "\r",
      " 90%|█████████ | 18/20 [00:05<00:00,  2.89it/s]"
     ]
    },
    {
     "name": "stderr",
     "output_type": "stream",
     "text": [
      "\r",
      " 95%|█████████▌| 19/20 [00:05<00:00,  2.94it/s]"
     ]
    },
    {
     "name": "stderr",
     "output_type": "stream",
     "text": [
      "\r",
      "100%|██████████| 20/20 [00:05<00:00,  2.72it/s]"
     ]
    },
    {
     "name": "stderr",
     "output_type": "stream",
     "text": [
      "\r",
      "100%|██████████| 20/20 [00:05<00:00,  3.39it/s]"
     ]
    },
    {
     "name": "stdout",
     "output_type": "stream",
     "text": [
      "Saved lineups with projection to: /Users/ethanariowitsch/draftkings-nba-model/DraftKingsLineup.csv\n"
     ]
    },
    {
     "name": "stderr",
     "output_type": "stream",
     "text": [
      "\n"
     ]
    }
   ],
   "source": [
    "df = pd.read_csv('Predictions.csv')\n",
    "if True:\n",
    "    #enter the parameters\n",
    "    optimizer = DraftKingsOptimizer(num_lineups=num_lineups_to_generate,\n",
    "                       overlap=max_player_overlap,\n",
    "                       solver=pulp.CPLEX_PY(msg=0),\n",
    "                       players_filepath = os.getcwd()+(\"/Predictions.csv\"),\n",
    "                       output_filepath = os.path.expanduser(\"~/draftkings-nba-model/DraftKingsLineup.csv\"))\n",
    "    optimizer.create_indicators()\n",
    "    #generate the lineups with the formula and the indicators\n",
    "    lineups = optimizer.generate_lineups(formula=optimizer.type_1)\n",
    "    #fill the lineups with player names - send in the positions indicator\n",
    "    filled_lineups = optimizer.fill_lineups(lineups)\n",
    "    #save the lineups\n",
    "    optimizer.save_file(optimizer.header, filled_lineups)\n",
    "    \n"
   ]
  },
  {
   "cell_type": "code",
   "execution_count": null,
   "metadata": {
    "papermill": {
     "duration": 0.041182,
     "end_time": "2019-10-22T19:25:14.318960",
     "exception": false,
     "start_time": "2019-10-22T19:25:14.277778",
     "status": "completed"
    },
    "tags": []
   },
   "outputs": [],
   "source": []
  },
  {
   "cell_type": "code",
   "execution_count": null,
   "metadata": {
    "papermill": {
     "duration": 0.040187,
     "end_time": "2019-10-22T19:25:14.398920",
     "exception": false,
     "start_time": "2019-10-22T19:25:14.358733",
     "status": "completed"
    },
    "tags": []
   },
   "outputs": [],
   "source": []
  },
  {
   "cell_type": "code",
   "execution_count": null,
   "metadata": {
    "papermill": {
     "duration": 0.031607,
     "end_time": "2019-10-22T19:25:14.467618",
     "exception": false,
     "start_time": "2019-10-22T19:25:14.436011",
     "status": "completed"
    },
    "tags": []
   },
   "outputs": [],
   "source": []
  }
 ],
 "metadata": {
  "kernelspec": {
   "display_name": "Python 3",
   "language": "python",
   "name": "python3"
  },
  "language_info": {
   "codemirror_mode": {
    "name": "ipython",
    "version": 3
   },
   "file_extension": ".py",
   "mimetype": "text/x-python",
   "name": "python",
   "nbconvert_exporter": "python",
   "pygments_lexer": "ipython3",
   "version": "3.7.3"
  },
  "papermill": {
   "duration": 17.128031,
   "end_time": "2019-10-22T19:25:16.341692",
   "environment_variables": {},
   "exception": null,
   "input_path": "4_Lineup_Creation.ipynb",
   "output_path": "outputs/temp.ipynb",
   "parameters": {},
   "start_time": "2019-10-22T19:24:59.213661",
   "version": "1.2.0"
  }
 },
 "nbformat": 4,
 "nbformat_minor": 2
}