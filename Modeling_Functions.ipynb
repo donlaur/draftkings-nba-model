{
 "cells": [
  {
   "cell_type": "code",
   "execution_count": 57,
   "metadata": {},
   "outputs": [],
   "source": [
    "import papermill as pm\n",
    "import pandas as pd\n",
    "from datetime import datetime, timedelta\n",
    "import selenium as se\n",
    "from selenium import webdriver\n",
    "import requests\n",
    "from selenium.webdriver.common.keys import Keys\n",
    "from bs4 import BeautifulSoup\n",
    "import re\n",
    "import pandas as pd\n",
    "import os\n",
    "from os.path import expanduser\n",
    "from sklearn import preprocessing, model_selection, svm, linear_model, metrics\n",
    "from sklearn.linear_model import LinearRegression\n",
    "from sklearn.cluster import MeanShift\n",
    "import numpy as np\n",
    "from sklearn.exceptions import DataConversionWarning\n",
    "from sklearn import preprocessing, model_selection, svm, linear_model, metrics\n",
    "from sklearn.svm import SVR\n",
    "from sklearn.ensemble import RandomForestRegressor"
   ]
  },
  {
   "cell_type": "code",
   "execution_count": 2,
   "metadata": {
    "code_folding": [
     0
    ]
   },
   "outputs": [],
   "source": [
    "def average_linear_reggresion(training_data, training_answers, test_data, test_answers, num):\n",
    "    k = 0\n",
    "    sum2 = 0\n",
    "    sum1 = 0\n",
    "    while k < num:\n",
    "        clf = linear_model.LinearRegression()\n",
    "        clf = clf.fit(training_data,training_answers)\n",
    "        k = k+1\n",
    "        test_prediction = clf.predict(test_data)\n",
    "        train_prediction = clf.predict(training_data)\n",
    "        sum2 = sum2 +(metrics.r2_score(test_answers, test_prediction))\n",
    "        sum1 = sum1 +(metrics.r2_score(training_answers, train_prediction))\n",
    "    print ('average linear regression r^2 for test data = ', (sum2/num), \"\\n\", \"average linear regression r^2 for training data = \", (sum1/num))"
   ]
  },
  {
   "cell_type": "code",
   "execution_count": 3,
   "metadata": {
    "code_folding": [
     0
    ]
   },
   "outputs": [],
   "source": [
    "def average_linear_svr(training_data, training_answers, test_data, test_answers, num):\n",
    "    k = 0\n",
    "    sum = 0\n",
    "    sum1 = 0\n",
    "    print(\"b\")\n",
    "    while k < num:\n",
    "        clf = svm.LinearSVR()\n",
    "        clf = clf.fit(training_data,training_answers)\n",
    "        print(1)\n",
    "        k = k+1\n",
    "        prediction = clf.predict(test_data)\n",
    "        prediction1 = clf.predict(training_data)\n",
    "        sum = sum +(metrics.r2_score(test_answers, prediction))\n",
    "        sum1 = sum1 +(metrics.r2_score(training_answers, prediction1))\n",
    "    #return \"average linear SVC r^2 for test data = \" + str(sum/num), + \"/n\" + \"average linear SVC r^2 for training data = \" + str(sum1/num)\n",
    "    return str(sum/num), str(sum1/num)"
   ]
  },
  {
   "cell_type": "code",
   "execution_count": 4,
   "metadata": {
    "code_folding": [
     0
    ]
   },
   "outputs": [],
   "source": [
    "def model_analysis(training_data, training_answers, test_data, test_answers, proj_points, pos):\n",
    "    clf_lin = linear_model.LinearRegression()\n",
    "    svr_forest = RandomForestRegressor(max_depth=2, random_state=0,n_estimators=100)\n",
    "\n",
    "    lin = clf_lin.fit(training_data,training_answers)\n",
    "    lin_pred = lin.predict(test_data)\n",
    "    forest = svr_forest.fit(training_data, training_answers)\n",
    "    for_pred = forest.predict(test_data)\n",
    "    \n",
    "    return lin_pred, for_pred"
   ]
  },
  {
   "cell_type": "code",
   "execution_count": 5,
   "metadata": {
    "code_folding": [
     0
    ]
   },
   "outputs": [],
   "source": [
    "def get_test_num (df, predictions_date):\n",
    "    date_range = df.index[df['Date']==predictions_date]\n",
    "    start_range = date_range[0]\n",
    "    end_range = date_range[len(date_range)-1]\n",
    "    df = df.truncate(after = end_range)\n",
    "    test_num = end_range - start_range+1\n",
    "    return test_num"
   ]
  },
  {
   "cell_type": "code",
   "execution_count": 6,
   "metadata": {
    "code_folding": []
   },
   "outputs": [],
   "source": []
  },
  {
   "cell_type": "code",
   "execution_count": 7,
   "metadata": {},
   "outputs": [],
   "source": []
  },
  {
   "cell_type": "code",
   "execution_count": 73,
   "metadata": {},
   "outputs": [],
   "source": [
    "\n",
    "    "
   ]
  },
  {
   "cell_type": "code",
   "execution_count": 74,
   "metadata": {},
   "outputs": [
    {
     "data": {
      "application/vnd.jupyter.widget-view+json": {
       "model_id": "dd8bbecd47f5430c86536c327b0d44bc",
       "version_major": 2,
       "version_minor": 0
      },
      "text/plain": [
       "HBox(children=(IntProgress(value=0, description='Executing', max=39, style=ProgressStyle(description_width='in…"
      ]
     },
     "metadata": {},
     "output_type": "display_data"
    },
    {
     "name": "stdout",
     "output_type": "stream",
     "text": [
      "\n"
     ]
    },
    {
     "ename": "PapermillExecutionError",
     "evalue": "\n---------------------------------------------------------------------------\nException encountered at \"In [1]\":\n---------------------------------------------------------------------------\nNameError                                 Traceback (most recent call last)\n<ipython-input-1-38068aaa78ca> in <module>\n     11 from sklearn.exceptions import DataConversionWarning\n     12 import import_ipynb\n---> 13 import Modeling_Functions\n     14 import statsmodels.api as sm\n     15 import statsmodels.graphics.api as smg\n\n~/anaconda3/lib/python3.7/importlib/_bootstrap.py in _find_and_load(name, import_)\n\n~/anaconda3/lib/python3.7/importlib/_bootstrap.py in _find_and_load_unlocked(name, import_)\n\n~/anaconda3/lib/python3.7/importlib/_bootstrap.py in _load_unlocked(spec)\n\n~/anaconda3/lib/python3.7/importlib/_bootstrap.py in _load_backward_compatible(spec)\n\n~/anaconda3/lib/python3.7/site-packages/import_ipynb.py in load_module(self, fullname)\n     59                 code = self.shell.input_transformer_manager.transform_cell(cell.source)\n     60                 # run the code in themodule\n---> 61                 exec(code, mod.__dict__)\n     62         finally:\n     63             self.shell.user_ns = save_user_ns\n\n~/draftkings-nba-model/Modeling_Functions.ipynb in <module>\n\nNameError: name 'date_str' is not defined\n",
     "output_type": "error",
     "traceback": [
      "\u001b[0;31m---------------------------------------------------------------------------\u001b[0m",
      "\u001b[0;31mPapermillExecutionError\u001b[0m                   Traceback (most recent call last)",
      "\u001b[0;32m<ipython-input-74-0a2a18177a8d>\u001b[0m in \u001b[0;36m<module>\u001b[0;34m\u001b[0m\n\u001b[0;32m----> 1\u001b[0;31m \u001b[0mx\u001b[0m \u001b[0;34m=\u001b[0m \u001b[0mtest_season\u001b[0m\u001b[0;34m(\u001b[0m\u001b[0;36m1000\u001b[0m\u001b[0;34m,\u001b[0m \u001b[0;36m100\u001b[0m\u001b[0;34m,\u001b[0m \u001b[0;34m'2018-10-27'\u001b[0m\u001b[0;34m,\u001b[0m \u001b[0;34m'2018-10-28'\u001b[0m\u001b[0;34m)\u001b[0m\u001b[0;34m\u001b[0m\u001b[0;34m\u001b[0m\u001b[0m\n\u001b[0m",
      "\u001b[0;32m<ipython-input-73-33e85faa1487>\u001b[0m in \u001b[0;36mtest_season\u001b[0;34m(starting_money, weekly_bet, start_date, end_date)\u001b[0m\n\u001b[1;32m      8\u001b[0m     \u001b[0;32mwhile\u001b[0m \u001b[0mcurr_date\u001b[0m \u001b[0;34m<\u001b[0m \u001b[0mend_date\u001b[0m\u001b[0;34m:\u001b[0m\u001b[0;34m\u001b[0m\u001b[0;34m\u001b[0m\u001b[0m\n\u001b[1;32m      9\u001b[0m         \u001b[0mcurr_date_str\u001b[0m \u001b[0;34m=\u001b[0m \u001b[0mcurr_date\u001b[0m\u001b[0;34m.\u001b[0m\u001b[0mstrftime\u001b[0m\u001b[0;34m(\u001b[0m\u001b[0;34m\"%Y-%m-%d\"\u001b[0m\u001b[0;34m)\u001b[0m\u001b[0;34m\u001b[0m\u001b[0;34m\u001b[0m\u001b[0m\n\u001b[0;32m---> 10\u001b[0;31m         \u001b[0mpm\u001b[0m\u001b[0;34m.\u001b[0m\u001b[0mexecute_notebook\u001b[0m\u001b[0;34m(\u001b[0m\u001b[0;34m'3_Modeling.ipynb'\u001b[0m\u001b[0;34m,\u001b[0m \u001b[0;34m'outputs/temp.txt'\u001b[0m\u001b[0;34m,\u001b[0m\u001b[0mprediction_date\u001b[0m \u001b[0;34m=\u001b[0m \u001b[0mcurr_date_str\u001b[0m\u001b[0;34m)\u001b[0m\u001b[0;34m\u001b[0m\u001b[0;34m\u001b[0m\u001b[0m\n\u001b[0m\u001b[1;32m     11\u001b[0m         \u001b[0mcurr_pred\u001b[0m \u001b[0;34m=\u001b[0m \u001b[0mpd\u001b[0m\u001b[0;34m.\u001b[0m\u001b[0mread_csv\u001b[0m\u001b[0;34m(\u001b[0m\u001b[0;34m'Predictions.csv'\u001b[0m\u001b[0;34m)\u001b[0m\u001b[0;34m\u001b[0m\u001b[0;34m\u001b[0m\u001b[0m\n\u001b[1;32m     12\u001b[0m \u001b[0;31m#         while curr_date_str not in all_dates and date < end_date:\u001b[0m\u001b[0;34m\u001b[0m\u001b[0;34m\u001b[0m\u001b[0;34m\u001b[0m\u001b[0m\n",
      "\u001b[0;32m~/anaconda3/lib/python3.7/site-packages/papermill/execute.py\u001b[0m in \u001b[0;36mexecute_notebook\u001b[0;34m(input_path, output_path, parameters, engine_name, request_save_on_cell_execute, prepare_only, kernel_name, progress_bar, log_output, stdout_file, stderr_file, start_timeout, report_mode, cwd, **engine_kwargs)\u001b[0m\n\u001b[1;32m    106\u001b[0m \u001b[0;34m\u001b[0m\u001b[0m\n\u001b[1;32m    107\u001b[0m             \u001b[0;31m# Check for errors first (it saves on error before raising)\u001b[0m\u001b[0;34m\u001b[0m\u001b[0;34m\u001b[0m\u001b[0;34m\u001b[0m\u001b[0m\n\u001b[0;32m--> 108\u001b[0;31m             \u001b[0mraise_for_execution_errors\u001b[0m\u001b[0;34m(\u001b[0m\u001b[0mnb\u001b[0m\u001b[0;34m,\u001b[0m \u001b[0moutput_path\u001b[0m\u001b[0;34m)\u001b[0m\u001b[0;34m\u001b[0m\u001b[0;34m\u001b[0m\u001b[0m\n\u001b[0m\u001b[1;32m    109\u001b[0m \u001b[0;34m\u001b[0m\u001b[0m\n\u001b[1;32m    110\u001b[0m         \u001b[0;31m# Write final output in case the engine didn't write it on cell completion.\u001b[0m\u001b[0;34m\u001b[0m\u001b[0;34m\u001b[0m\u001b[0;34m\u001b[0m\u001b[0m\n",
      "\u001b[0;32m~/anaconda3/lib/python3.7/site-packages/papermill/execute.py\u001b[0m in \u001b[0;36mraise_for_execution_errors\u001b[0;34m(nb, output_path)\u001b[0m\n\u001b[1;32m    190\u001b[0m         \u001b[0mnb\u001b[0m\u001b[0;34m.\u001b[0m\u001b[0mcells\u001b[0m \u001b[0;34m=\u001b[0m \u001b[0;34m[\u001b[0m\u001b[0merror_msg_cell\u001b[0m\u001b[0;34m]\u001b[0m \u001b[0;34m+\u001b[0m \u001b[0mnb\u001b[0m\u001b[0;34m.\u001b[0m\u001b[0mcells\u001b[0m\u001b[0;34m\u001b[0m\u001b[0;34m\u001b[0m\u001b[0m\n\u001b[1;32m    191\u001b[0m         \u001b[0mwrite_ipynb\u001b[0m\u001b[0;34m(\u001b[0m\u001b[0mnb\u001b[0m\u001b[0;34m,\u001b[0m \u001b[0moutput_path\u001b[0m\u001b[0;34m)\u001b[0m\u001b[0;34m\u001b[0m\u001b[0;34m\u001b[0m\u001b[0m\n\u001b[0;32m--> 192\u001b[0;31m         \u001b[0;32mraise\u001b[0m \u001b[0merror\u001b[0m\u001b[0;34m\u001b[0m\u001b[0;34m\u001b[0m\u001b[0m\n\u001b[0m",
      "\u001b[0;31mPapermillExecutionError\u001b[0m: \n---------------------------------------------------------------------------\nException encountered at \"In [1]\":\n---------------------------------------------------------------------------\nNameError                                 Traceback (most recent call last)\n<ipython-input-1-38068aaa78ca> in <module>\n     11 from sklearn.exceptions import DataConversionWarning\n     12 import import_ipynb\n---> 13 import Modeling_Functions\n     14 import statsmodels.api as sm\n     15 import statsmodels.graphics.api as smg\n\n~/anaconda3/lib/python3.7/importlib/_bootstrap.py in _find_and_load(name, import_)\n\n~/anaconda3/lib/python3.7/importlib/_bootstrap.py in _find_and_load_unlocked(name, import_)\n\n~/anaconda3/lib/python3.7/importlib/_bootstrap.py in _load_unlocked(spec)\n\n~/anaconda3/lib/python3.7/importlib/_bootstrap.py in _load_backward_compatible(spec)\n\n~/anaconda3/lib/python3.7/site-packages/import_ipynb.py in load_module(self, fullname)\n     59                 code = self.shell.input_transformer_manager.transform_cell(cell.source)\n     60                 # run the code in themodule\n---> 61                 exec(code, mod.__dict__)\n     62         finally:\n     63             self.shell.user_ns = save_user_ns\n\n~/draftkings-nba-model/Modeling_Functions.ipynb in <module>\n\nNameError: name 'date_str' is not defined\n"
     ]
    }
   ],
   "source": [
    "# x = test_season(1000, 100, '2018-10-27', '2018-10-28')"
   ]
  },
  {
   "cell_type": "code",
   "execution_count": null,
   "metadata": {},
   "outputs": [],
   "source": []
  },
  {
   "cell_type": "code",
   "execution_count": null,
   "metadata": {},
   "outputs": [],
   "source": []
  }
 ],
 "metadata": {
  "kernelspec": {
   "display_name": "Python 3",
   "language": "python",
   "name": "python3"
  },
  "language_info": {
   "codemirror_mode": {
    "name": "ipython",
    "version": 3
   },
   "file_extension": ".py",
   "mimetype": "text/x-python",
   "name": "python",
   "nbconvert_exporter": "python",
   "pygments_lexer": "ipython3",
   "version": "3.7.3"
  }
 },
 "nbformat": 4,
 "nbformat_minor": 2
}
