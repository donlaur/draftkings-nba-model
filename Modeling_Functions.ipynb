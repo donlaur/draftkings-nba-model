{
 "cells": [
  {
   "cell_type": "code",
   "execution_count": 1,
   "metadata": {},
   "outputs": [],
   "source": [
    "from sklearn import preprocessing, model_selection, svm, linear_model, metrics\n",
    "from sklearn.linear_model import LinearRegression\n",
    "from sklearn.cluster import MeanShift\n",
    "import numpy as np\n",
    "from sklearn.exceptions import DataConversionWarning\n",
    "from sklearn import preprocessing, model_selection, svm, linear_model, metrics\n",
    "from sklearn.svm import SVR\n",
    "from sklearn.ensemble import RandomForestRegressor"
   ]
  },
  {
   "cell_type": "code",
   "execution_count": 2,
   "metadata": {},
   "outputs": [],
   "source": [
    "def average_linear_reggresion(training_data, training_answers, test_data, test_answers, num):\n",
    "    k = 0\n",
    "    sum2 = 0\n",
    "    sum1 = 0\n",
    "    while k < num:\n",
    "        clf = linear_model.LinearRegression()\n",
    "        clf = clf.fit(training_data,training_answers)\n",
    "        k = k+1\n",
    "        test_prediction = clf.predict(test_data)\n",
    "        train_prediction = clf.predict(training_data)\n",
    "        sum2 = sum2 +(metrics.r2_score(test_answers, test_prediction))\n",
    "        sum1 = sum1 +(metrics.r2_score(training_answers, train_prediction))\n",
    "    print ('average linear regression r^2 for test data = ', (sum2/num), \"\\n\", \"average linear regression r^2 for training data = \", (sum1/num))"
   ]
  },
  {
   "cell_type": "code",
   "execution_count": 3,
   "metadata": {},
   "outputs": [],
   "source": [
    "def average_linear_svr(training_data, training_answers, test_data, test_answers, num):\n",
    "    k = 0\n",
    "    sum = 0\n",
    "    sum1 = 0\n",
    "    print(\"b\")\n",
    "    while k < num:\n",
    "        clf = svm.LinearSVR()\n",
    "        clf = clf.fit(training_data,training_answers)\n",
    "        print(1)\n",
    "        k = k+1\n",
    "        prediction = clf.predict(test_data)\n",
    "        prediction1 = clf.predict(training_data)\n",
    "        sum = sum +(metrics.r2_score(test_answers, prediction))\n",
    "        sum1 = sum1 +(metrics.r2_score(training_answers, prediction1))\n",
    "    #return \"average linear SVC r^2 for test data = \" + str(sum/num), + \"/n\" + \"average linear SVC r^2 for training data = \" + str(sum1/num)\n",
    "    return str(sum/num), str(sum1/num)"
   ]
  },
  {
   "cell_type": "code",
   "execution_count": 4,
   "metadata": {},
   "outputs": [],
   "source": [
    "def model_analysis(training_data, training_answers, test_data, test_answers, proj_points, pos):\n",
    "    clf_lin = linear_model.LinearRegression()\n",
    "    svr_forest = RandomForestRegressor(max_depth=2, random_state=0,n_estimators=100)\n",
    "\n",
    "    lin = clf_lin.fit(training_data,training_answers)\n",
    "    lin_pred = lin.predict(test_data)\n",
    "    forest = svr_forest.fit(training_data, training_answers)\n",
    "    for_pred = forest.predict(test_data)\n",
    "    \n",
    "    return lin_pred, for_pred"
   ]
  },
  {
   "cell_type": "code",
   "execution_count": 5,
   "metadata": {},
   "outputs": [],
   "source": [
    "def get_test_num (df, predictions_date):\n",
    "    date_range = df.index[df['Date']==predictions_date]\n",
    "    start_range = date_range[0]\n",
    "    end_range = date_range[len(date_range)-1]\n",
    "    df = df.truncate(after = end_range)\n",
    "    test_num = end_range - start_range+1\n",
    "    return test_num"
   ]
  },
  {
   "cell_type": "code",
   "execution_count": null,
   "metadata": {},
   "outputs": [],
   "source": []
  }
 ],
 "metadata": {
  "kernelspec": {
   "display_name": "Python 3",
   "language": "python",
   "name": "python3"
  },
  "language_info": {
   "codemirror_mode": {
    "name": "ipython",
    "version": 3
   },
   "file_extension": ".py",
   "mimetype": "text/x-python",
   "name": "python",
   "nbconvert_exporter": "python",
   "pygments_lexer": "ipython3",
   "version": "3.7.3"
  }
 },
 "nbformat": 4,
 "nbformat_minor": 2
}
