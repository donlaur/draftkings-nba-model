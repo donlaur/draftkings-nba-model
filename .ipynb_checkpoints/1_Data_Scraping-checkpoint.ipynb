{
 "cells": [
  {
   "cell_type": "markdown",
   "metadata": {
    "heading_collapsed": true
   },
   "source": [
    "# Imports"
   ]
  },
  {
   "cell_type": "code",
   "execution_count": null,
   "metadata": {
    "hidden": true
   },
   "outputs": [],
   "source": [
    "from bs4 import BeautifulSoup\n",
    "import requests\n",
    "import csv\n",
    "import os\n",
    "import import_ipynb\n",
    "import Dataprep"
   ]
  },
  {
   "cell_type": "markdown",
   "metadata": {
    "heading_collapsed": true
   },
   "source": [
    "# Scraping Game Data From NBA Reference\n",
    "Scraping game data from the 2015-16 season through 2018-19 from https://www.basketball-reference.com/. Then web pages are saved in the current working directory/NBARefFiles"
   ]
  },
  {
   "cell_type": "code",
   "execution_count": null,
   "metadata": {
    "hidden": true
   },
   "outputs": [],
   "source": [
    "years_grabbed = ['2016', '2017', '2018','2019']\n",
    "\n",
    "for year in years_grabbed:\n",
    "    for team in Dataprep.team_handles_dict.values():\n",
    "        if team != 'CHA':\n",
    "            gid_list = Dataprep.get_game_id_for_team(team, year)\n",
    "            for gid in gid_list:\n",
    "                pagelink = \"https://www.basketball-reference.com/boxscores/\"+gid+\".html\"\n",
    "                page = requests.get(pagelink)\n",
    "                file = open(os.getcwd()+(\"/NBARefFiles/\"+gid+'.html'), \"w\")\n",
    "                file.write(page.text)"
   ]
  },
  {
   "cell_type": "markdown",
   "metadata": {
    "heading_collapsed": true
   },
   "source": [
    "# Create a CSV from NBA Reference Game Files\n",
    "This CSV is later used to make sure we only scrape projections, betting data and drafkings data for games that we have"
   ]
  },
  {
   "cell_type": "code",
   "execution_count": null,
   "metadata": {
    "hidden": true,
    "scrolled": true
   },
   "outputs": [],
   "source": [
    "from bs4 import BeautifulSoup\n",
    "import csv\n",
    "import os\n",
    "import pandas as pd\n",
    "import import_ipynb\n",
    "import Dataprep\n",
    "\n",
    "home_away_dict = {0: 'away', 1: 'home'}\n",
    "\n",
    "df = pd.DataFrame()\n",
    "\n",
    "for file in os.listdir(os.getcwd()+(\"/NBARefFiles/\")):\n",
    "    try:\n",
    "        box = Dataprep.get_box_score_stats(file)\n",
    "        df = pd.concat([df, (box)],ignore_index=True)\n",
    "    except:\n",
    "        pass\n",
    "df.set_index('GID',inplace=True)\n",
    "df.sort_index(ascending=True,inplace=True)\n",
    "df.to_csv('outputs/NBABoxStats.csv')   \n"
   ]
  },
  {
   "cell_type": "markdown",
   "metadata": {},
   "source": [
    "# Scraping Vegas Odds, Fantasy Projections, and Draftkings scores \n",
    "Scraping http://www.dailyfantasyfuel.com for historical fantasy point projections for each player, http://rotoguru1.com for Draftkings salary information, and https://www.sportsbookreview.com for vegas game odds"
   ]
  },
  {
   "cell_type": "code",
   "execution_count": null,
   "metadata": {},
   "outputs": [],
   "source": [
    "df = pd.read_csv(\"outputs/NBABoxStats.csv\")\n",
    "dates = df['Date'].to_numpy()\n",
    "date_list = Dataprep.get_dates_list(dates)\n",
    "Dataprep.saveOddsFiles(dates)\n",
    "Dataprep.savePlayerProjections(date_list)\n",
    "Dataprep.saveDKFiles(date_list)"
   ]
  }
 ],
 "metadata": {
  "kernelspec": {
   "display_name": "Python 3",
   "language": "python",
   "name": "python3"
  },
  "language_info": {
   "codemirror_mode": {
    "name": "ipython",
    "version": 3
   },
   "file_extension": ".py",
   "mimetype": "text/x-python",
   "name": "python",
   "nbconvert_exporter": "python",
   "pygments_lexer": "ipython3",
   "version": "3.7.3"
  }
 },
 "nbformat": 4,
 "nbformat_minor": 2
}
