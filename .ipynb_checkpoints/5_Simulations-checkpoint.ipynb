{
 "cells": [
  {
   "cell_type": "markdown",
   "metadata": {},
   "source": [
    "# Imports"
   ]
  },
  {
   "cell_type": "code",
   "execution_count": 1,
   "metadata": {},
   "outputs": [
    {
     "name": "stdout",
     "output_type": "stream",
     "text": [
      "importing Jupyter notebook from Test_Functions.ipynb\n"
     ]
    }
   ],
   "source": [
    "import numpy as np\n",
    "import pandas as pd\n",
    "import import_ipynb\n",
    "import pandas as pd\n",
    "import Test_Functions"
   ]
  },
  {
   "cell_type": "markdown",
   "metadata": {},
   "source": [
    "# Fetching a List of Dates to Simulate\n",
    "Here we will fetch the date list for the 2017-2018 season and we will simulate how our model would perform over the course of the season. "
   ]
  },
  {
   "cell_type": "code",
   "execution_count": 6,
   "metadata": {},
   "outputs": [],
   "source": [
    "box_df = pd.read_csv(\"outputs/NBABoxStats.csv\")\n",
    "dates = box_df['Date'].to_numpy()\n",
    "dates = Test_Functions.get_dates_list(dates)\n",
    "index = dates.index('2018-10-28')\n",
    "end_index = dates.index('2018-11-11')\n",
    "date_list = dates[index:end_index]"
   ]
  },
  {
   "cell_type": "markdown",
   "metadata": {},
   "source": [
    "# Running Season Simulation\n",
    "We call test_season() with a starting balance of 1000 and placing bets of 100 each week. test_season() works by calling get_lines() which will scrape rotoguru.com for average points needed each day to place in gpp contest and cash contests (ie. points needed to place in tournaments and points needed to place in 50/50s). Then test_season() will execute a streamlined copy of the modeling notebook to generate predictions, then it will execute the lineup creation notebook which generates the 20 optimal lineups for that day's predictions. test_season() then calculates the proportion of lineups that would cash and determines how much money would be won or lost. Finally test_season() returns an array of the current balance.  "
   ]
  },
  {
   "cell_type": "code",
   "execution_count": 7,
   "metadata": {},
   "outputs": [
    {
     "ename": "IndexError",
     "evalue": "list index out of range",
     "output_type": "error",
     "traceback": [
      "\u001b[0;31m---------------------------------------------------------------------------\u001b[0m",
      "\u001b[0;31mIndexError\u001b[0m                                Traceback (most recent call last)",
      "\u001b[0;32m<ipython-input-7-d5a7658c89b0>\u001b[0m in \u001b[0;36m<module>\u001b[0;34m\u001b[0m\n\u001b[0;32m----> 1\u001b[0;31m \u001b[0mmoney_arr\u001b[0m \u001b[0;34m=\u001b[0m \u001b[0mTest_Functions\u001b[0m\u001b[0;34m.\u001b[0m\u001b[0mtest_season\u001b[0m\u001b[0;34m(\u001b[0m\u001b[0;36m5000\u001b[0m\u001b[0;34m,\u001b[0m \u001b[0;36m100\u001b[0m\u001b[0;34m,\u001b[0m \u001b[0mdate_list\u001b[0m\u001b[0;34m)\u001b[0m\u001b[0;34m\u001b[0m\u001b[0;34m\u001b[0m\u001b[0m\n\u001b[0m\u001b[1;32m      2\u001b[0m \u001b[0mprint\u001b[0m\u001b[0;34m(\u001b[0m\u001b[0mmoney_arr\u001b[0m\u001b[0;34m)\u001b[0m\u001b[0;34m\u001b[0m\u001b[0;34m\u001b[0m\u001b[0m\n",
      "\u001b[0;32m~/draftkings-nba-model/Test_Functions.ipynb\u001b[0m in \u001b[0;36mtest_season\u001b[0;34m(starting_money, weekly_bet, date_list)\u001b[0m\n",
      "\u001b[0;32m~/draftkings-nba-model/Test_Functions.ipynb\u001b[0m in \u001b[0;36mget_lines\u001b[0;34m(date_list)\u001b[0m\n",
      "\u001b[0;31mIndexError\u001b[0m: list index out of range"
     ]
    }
   ],
   "source": [
    "money_arr = Test_Functions.test_season(5000, 100, date_list)\n",
    "print(money_arr)"
   ]
  },
  {
   "cell_type": "code",
   "execution_count": null,
   "metadata": {},
   "outputs": [],
   "source": []
  }
 ],
 "metadata": {
  "kernelspec": {
   "display_name": "Python 3",
   "language": "python",
   "name": "python3"
  },
  "language_info": {
   "codemirror_mode": {
    "name": "ipython",
    "version": 3
   },
   "file_extension": ".py",
   "mimetype": "text/x-python",
   "name": "python",
   "nbconvert_exporter": "python",
   "pygments_lexer": "ipython3",
   "version": "3.7.3"
  }
 },
 "nbformat": 4,
 "nbformat_minor": 2
}
