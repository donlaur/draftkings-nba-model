{
 "cells": [
  {
   "cell_type": "code",
   "execution_count": 1,
   "metadata": {},
   "outputs": [],
   "source": [
    "from tqdm import tqdm\n",
    "import time\n",
    "import papermill as pm\n",
    "import pandas as pd\n",
    "from datetime import datetime, timedelta\n",
    "import selenium as se\n",
    "from selenium import webdriver\n",
    "import requests\n",
    "from selenium.webdriver.common.keys import Keys\n",
    "from bs4 import BeautifulSoup\n",
    "import re\n",
    "import pandas as pd\n",
    "import os\n",
    "from os.path import expanduser"
   ]
  },
  {
   "cell_type": "code",
   "execution_count": 2,
   "metadata": {
    "code_folding": []
   },
   "outputs": [],
   "source": [
    "def get_lines(date_list):\n",
    "    gpp_lines =[]\n",
    "    cash_lines = []\n",
    "    options = se.webdriver.ChromeOptions()\n",
    "#     options.add_argument('headless')\n",
    "    driver = webdriver.Chrome(options=options, executable_path = os.path.expanduser(\"~\") \n",
    "                              +'/anaconda3/bin/chromedriver')\n",
    "    driver.implicitly_wait(30)\n",
    "    for date in date_list:\n",
    "        url = 'https://rotogrinders.com/resultsdb/site/draftkings/date/'+date+'/sport/nba/slate/'\n",
    "        driver.get(url)\n",
    "        time.sleep(5)\n",
    "        soup = BeautifulSoup(driver.page_source, 'lxml')\n",
    "        mydivs = soup.findAll(\"div\", {\"class\": \"ant-card-body\"})\n",
    "        gpp_line = (mydivs[2].text)\n",
    "        if len(mydivs) > 3:\n",
    "            cash_line = mydivs[3].text\n",
    "        else:\n",
    "            cash_line = gpp_line\n",
    "        gpp_lines.append(float(gpp_line))\n",
    "        cash_lines.append(float(cash_line))\n",
    "    driver.quit()\n",
    "    return gpp_lines, cash_lines"
   ]
  },
  {
   "cell_type": "code",
   "execution_count": 3,
   "metadata": {
    "code_folding": [
     0
    ]
   },
   "outputs": [],
   "source": [
    "def get_cash_profit(predictions, gpp_line, cash_line):\n",
    "    cash_sum = 0\n",
    "    gpp_sum = []\n",
    "    num_lineups = predictions.shape[0]\n",
    "    for index, each_row in predictions.iterrows():\n",
    "        if each_row['Points']>cash_line:\n",
    "            cash_sum = cash_sum+1.8\n",
    "    cash_proportion = (float(cash_sum)/num_lineups)\n",
    "    return cash_proportion"
   ]
  },
  {
   "cell_type": "code",
   "execution_count": 7,
   "metadata": {},
   "outputs": [],
   "source": [
    "def test_season(starting_money, weekly_bet, date_list):\n",
    "    cash_sums = list()\n",
    "    current_sum = starting_money\n",
    "    lines_index = 0\n",
    "    gpp_lines, cash_lines = get_lines(date_list)\n",
    "    money_arr = []\n",
    "    for date in tqdm(date_list, unit='Dates'):\n",
    "        pm.execute_notebook('Modeling_SimCopy.ipynb', output_path = 'outputs/temp.ipynb', \n",
    "                            progress_bar = False, prediction_date = date, \n",
    "                            log_output = False)\n",
    "        curr_pred = pd.read_csv('Predictions.csv')\n",
    "        pm.execute_notebook('4_Lineup_Creation.ipynb', output_path = 'outputs/temp.ipynb', \n",
    "                            progress_bar = False, num_lineups_to_generate = 10, \n",
    "                            max_player_overlap = 4, log_output = False)\n",
    "        lineups = pd.read_csv('DraftkingsLineup.csv')\n",
    "        gpp_line = gpp_lines[lines_index]\n",
    "        cash_line = cash_lines[lines_index]\n",
    "        cash_proportion = get_cash_profit(lineups, gpp_line, cash_line)\n",
    "        current_sum = current_sum - weekly_bet + (weekly_bet*cash_proportion)\n",
    "        lines_index += 1\n",
    "        money_arr.append(current_sum)\n",
    "    return money_arr, cash_lines"
   ]
  },
  {
   "cell_type": "code",
   "execution_count": 5,
   "metadata": {
    "code_folding": [
     0
    ]
   },
   "outputs": [],
   "source": [
    "def get_dates_list(dates):\n",
    "    date_list = []\n",
    "    for date in dates:\n",
    "        if \"/\" in date:\n",
    "            date_split = date.split(\"/\")\n",
    "        if \"-\" in date:\n",
    "            date_split = date.split(\"-\")\n",
    "        year = date_split[0]\n",
    "        if len(date_split[1]) > 1:\n",
    "            month = date_split[1]\n",
    "        else:\n",
    "            month = date_split[1]\n",
    "        if len(date_split[2]) > 1:\n",
    "            day = date_split[2]\n",
    "        else:\n",
    "            day = date_split[2]\n",
    "        date = year+'-'+month+'-'+day\n",
    "        if date not in date_list:\n",
    "            date_list.append(date)\n",
    "    return date_list"
   ]
  },
  {
   "cell_type": "code",
   "execution_count": null,
   "metadata": {},
   "outputs": [],
   "source": []
  }
 ],
 "metadata": {
  "kernelspec": {
   "display_name": "Python 3",
   "language": "python",
   "name": "python3"
  },
  "language_info": {
   "codemirror_mode": {
    "name": "ipython",
    "version": 3
   },
   "file_extension": ".py",
   "mimetype": "text/x-python",
   "name": "python",
   "nbconvert_exporter": "python",
   "pygments_lexer": "ipython3",
   "version": "3.7.3"
  }
 },
 "nbformat": 4,
 "nbformat_minor": 2
}
